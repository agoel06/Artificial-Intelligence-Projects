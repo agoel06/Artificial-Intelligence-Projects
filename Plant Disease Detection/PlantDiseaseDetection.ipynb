{
 "cells": [
  {
   "cell_type": "code",
   "execution_count": 1,
   "metadata": {},
   "outputs": [],
   "source": [
    "import tensorflow as tf\n",
    "import numpy as np\n",
    "from tensorflow import keras\n",
    "from tensorflow.keras.preprocessing.image import ImageDataGenerator\n",
    "from keras.callbacks import ReduceLROnPlateau,EarlyStopping"
   ]
  },
  {
   "cell_type": "code",
   "execution_count": 2,
   "metadata": {},
   "outputs": [
    {
     "name": "stdout",
     "output_type": "stream",
     "text": [
      "Found 22260 images belonging to 29 classes.\n",
      "Found 5554 images belonging to 29 classes.\n"
     ]
    }
   ],
   "source": [
    "# Define the path to your dataset, where each class has its own folder.\n",
    "train_data_dir = './newData/'\n",
    "valid_data_dir = './newData'\n",
    "\n",
    "# Define image size and batch size.\n",
    "img_size = (256,256)\n",
    "batch_size = 8\n",
    "\n",
    "# Create data generators for training and validation data.\n",
    "train_datagen = ImageDataGenerator(\n",
    "    rescale=1.0/255,\n",
    "    shear_range=0.2,\n",
    "    zoom_range=0.3,\n",
    "    rotation_range=15,\n",
    "    width_shift_range=0.2, # horizontal shift\n",
    "    height_shift_range=0.2,\n",
    "    validation_split=0.2  # Split data into training and validation.\n",
    ")\n",
    "\n",
    "train_generator = train_datagen.flow_from_directory(\n",
    "    train_data_dir,\n",
    "    target_size=img_size,\n",
    "    batch_size=batch_size,\n",
    "    class_mode='categorical',\n",
    "    subset='training'  # Specify 'training' for the training generator.\n",
    ")\n",
    "\n",
    "valid_datagen = ImageDataGenerator(\n",
    "    rescale=1.0/255\n",
    ")\n",
    "valid_generator = train_datagen.flow_from_directory(\n",
    "    valid_data_dir,\n",
    "    target_size=img_size,\n",
    "    batch_size=batch_size,\n",
    "    class_mode='categorical',\n",
    "    subset='validation'  # Specify 'validation' for the validation generator.\n",
    ")"
   ]
  },
  {
   "cell_type": "code",
   "execution_count": 3,
   "metadata": {},
   "outputs": [],
   "source": [
    "class_names = list(train_generator.class_indices.keys())"
   ]
  },
  {
   "cell_type": "code",
   "execution_count": 4,
   "metadata": {},
   "outputs": [],
   "source": [
    "n_classes = len(class_names)\n",
    "# Define the CNN model.\n",
    "model = keras.Sequential([\n",
    "    keras.layers.Conv2D(16, (3, 3), activation='relu', input_shape=(256,256, 3)),\n",
    "    keras.layers.Conv2D(16, (3, 3), activation='relu'),\n",
    "    keras.layers.MaxPooling2D((2, 2)),\n",
    "    keras.layers.Conv2D(32, (3, 3), activation='relu'),\n",
    "    keras.layers.Conv2D(32, (3, 3), activation='relu'),\n",
    "    keras.layers.MaxPooling2D((2, 2)),\n",
    "    keras.layers.Conv2D(64, (3, 3), activation='relu'),\n",
    "    keras.layers.Conv2D(64, (3, 3), activation='relu'),\n",
    "    keras.layers.MaxPooling2D((2, 2)),\n",
    "    keras.layers.Conv2D(128, (3, 3), activation='relu'),\n",
    "    keras.layers.Conv2D(128, (3, 3), activation='relu'),\n",
    "    keras.layers.MaxPooling2D((2, 2)),\n",
    "    keras.layers.Conv2D(256, (3, 3), activation='relu'),\n",
    "    keras.layers.Conv2D(256, (3, 3), activation='relu'),\n",
    "    keras.layers.MaxPooling2D((2, 2)),\n",
    "    keras.layers.Flatten(),\n",
    "    keras.layers.Dense(1024, activation='relu'),\n",
    "    keras.layers.Dense(256, activation='relu'),\n",
    "    keras.layers.Dense(n_classes, activation='softmax') \n",
    "])\n"
   ]
  },
  {
   "cell_type": "code",
   "execution_count": 5,
   "metadata": {},
   "outputs": [
    {
     "name": "stdout",
     "output_type": "stream",
     "text": [
      "Model: \"sequential\"\n",
      "_________________________________________________________________\n",
      " Layer (type)                Output Shape              Param #   \n",
      "=================================================================\n",
      " conv2d (Conv2D)             (None, 254, 254, 16)      448       \n",
      "                                                                 \n",
      " conv2d_1 (Conv2D)           (None, 252, 252, 16)      2320      \n",
      "                                                                 \n",
      " max_pooling2d (MaxPooling2D  (None, 126, 126, 16)     0         \n",
      " )                                                               \n",
      "                                                                 \n",
      " conv2d_2 (Conv2D)           (None, 124, 124, 32)      4640      \n",
      "                                                                 \n",
      " conv2d_3 (Conv2D)           (None, 122, 122, 32)      9248      \n",
      "                                                                 \n",
      " max_pooling2d_1 (MaxPooling  (None, 61, 61, 32)       0         \n",
      " 2D)                                                             \n",
      "                                                                 \n",
      " conv2d_4 (Conv2D)           (None, 59, 59, 64)        18496     \n",
      "                                                                 \n",
      " conv2d_5 (Conv2D)           (None, 57, 57, 64)        36928     \n",
      "                                                                 \n",
      " max_pooling2d_2 (MaxPooling  (None, 28, 28, 64)       0         \n",
      " 2D)                                                             \n",
      "                                                                 \n",
      " conv2d_6 (Conv2D)           (None, 26, 26, 128)       73856     \n",
      "                                                                 \n",
      " conv2d_7 (Conv2D)           (None, 24, 24, 128)       147584    \n",
      "                                                                 \n",
      " max_pooling2d_3 (MaxPooling  (None, 12, 12, 128)      0         \n",
      " 2D)                                                             \n",
      "                                                                 \n",
      " conv2d_8 (Conv2D)           (None, 10, 10, 256)       295168    \n",
      "                                                                 \n",
      " conv2d_9 (Conv2D)           (None, 8, 8, 256)         590080    \n",
      "                                                                 \n",
      " max_pooling2d_4 (MaxPooling  (None, 4, 4, 256)        0         \n",
      " 2D)                                                             \n",
      "                                                                 \n",
      " flatten (Flatten)           (None, 4096)              0         \n",
      "                                                                 \n",
      " dense (Dense)               (None, 1024)              4195328   \n",
      "                                                                 \n",
      " dense_1 (Dense)             (None, 256)               262400    \n",
      "                                                                 \n",
      " dense_2 (Dense)             (None, 29)                7453      \n",
      "                                                                 \n",
      "=================================================================\n",
      "Total params: 5,643,949\n",
      "Trainable params: 5,643,949\n",
      "Non-trainable params: 0\n",
      "_________________________________________________________________\n"
     ]
    }
   ],
   "source": [
    "model.summary()"
   ]
  },
  {
   "cell_type": "code",
   "execution_count": 6,
   "metadata": {},
   "outputs": [],
   "source": [
    "model.compile(\n",
    "    optimizer= tf.keras.optimizers.experimental.Adam(learning_rate=0.00018),\n",
    "    loss=tf.keras.losses.CategoricalCrossentropy(),\n",
    "    metrics=['accuracy']\n",
    ")"
   ]
  },
  {
   "cell_type": "code",
   "execution_count": 7,
   "metadata": {},
   "outputs": [
    {
     "name": "stdout",
     "output_type": "stream",
     "text": [
      "Epoch 1/35\n",
      "2783/2783 [==============================] - 522s 182ms/step - loss: 2.7457 - accuracy: 0.1654 - val_loss: 2.3714 - val_accuracy: 0.2488 - lr: 1.8000e-04\n",
      "Epoch 2/35\n",
      "2783/2783 [==============================] - 254s 91ms/step - loss: 1.6135 - accuracy: 0.4831 - val_loss: 1.3073 - val_accuracy: 0.5821 - lr: 1.8000e-04\n",
      "Epoch 3/35\n",
      "2783/2783 [==============================] - 247s 89ms/step - loss: 1.0201 - accuracy: 0.6711 - val_loss: 0.8132 - val_accuracy: 0.7299 - lr: 1.8000e-04\n",
      "Epoch 4/35\n",
      "2783/2783 [==============================] - 246s 88ms/step - loss: 0.7297 - accuracy: 0.7602 - val_loss: 0.5828 - val_accuracy: 0.8059 - lr: 1.8000e-04\n",
      "Epoch 5/35\n",
      "2783/2783 [==============================] - 248s 89ms/step - loss: 0.5774 - accuracy: 0.8115 - val_loss: 0.5245 - val_accuracy: 0.8239 - lr: 1.8000e-04\n",
      "Epoch 6/35\n",
      "2783/2783 [==============================] - 248s 89ms/step - loss: 0.4762 - accuracy: 0.8481 - val_loss: 0.5145 - val_accuracy: 0.8268 - lr: 1.8000e-04\n",
      "Epoch 7/35\n",
      "2783/2783 [==============================] - 246s 89ms/step - loss: 0.4186 - accuracy: 0.8630 - val_loss: 0.3552 - val_accuracy: 0.8824 - lr: 1.8000e-04\n",
      "Epoch 8/35\n",
      "2783/2783 [==============================] - 248s 89ms/step - loss: 0.3638 - accuracy: 0.8802 - val_loss: 0.3610 - val_accuracy: 0.8803 - lr: 1.8000e-04\n",
      "Epoch 9/35\n",
      "2783/2783 [==============================] - 249s 89ms/step - loss: 0.3243 - accuracy: 0.8931 - val_loss: 0.2812 - val_accuracy: 0.9089 - lr: 1.8000e-04\n",
      "Epoch 10/35\n",
      "2783/2783 [==============================] - 249s 89ms/step - loss: 0.2914 - accuracy: 0.9044 - val_loss: 0.3360 - val_accuracy: 0.8885 - lr: 1.8000e-04\n",
      "Epoch 11/35\n",
      "2783/2783 [==============================] - 248s 89ms/step - loss: 0.2623 - accuracy: 0.9151 - val_loss: 0.2354 - val_accuracy: 0.9222 - lr: 1.8000e-04\n",
      "Epoch 12/35\n",
      "2783/2783 [==============================] - 248s 89ms/step - loss: 0.2522 - accuracy: 0.9195 - val_loss: 0.2253 - val_accuracy: 0.9251 - lr: 1.8000e-04\n",
      "Epoch 13/35\n",
      "2783/2783 [==============================] - 247s 89ms/step - loss: 0.2325 - accuracy: 0.9234 - val_loss: 0.2539 - val_accuracy: 0.9150 - lr: 1.8000e-04\n",
      "Epoch 14/35\n",
      "2783/2783 [==============================] - 249s 90ms/step - loss: 0.2187 - accuracy: 0.9277 - val_loss: 0.2395 - val_accuracy: 0.9226 - lr: 1.8000e-04\n",
      "Epoch 15/35\n",
      "2783/2783 [==============================] - 248s 89ms/step - loss: 0.0918 - accuracy: 0.9698 - val_loss: 0.1455 - val_accuracy: 0.9550 - lr: 5.4000e-05\n",
      "Epoch 16/35\n",
      "2783/2783 [==============================] - 248s 89ms/step - loss: 0.0837 - accuracy: 0.9723 - val_loss: 0.1335 - val_accuracy: 0.9584 - lr: 5.4000e-05\n",
      "Epoch 17/35\n",
      "2783/2783 [==============================] - 249s 90ms/step - loss: 0.0754 - accuracy: 0.9738 - val_loss: 0.1127 - val_accuracy: 0.9640 - lr: 5.4000e-05\n",
      "Epoch 18/35\n",
      "2783/2783 [==============================] - 248s 89ms/step - loss: 0.0696 - accuracy: 0.9747 - val_loss: 0.1628 - val_accuracy: 0.9460 - lr: 5.4000e-05\n",
      "Epoch 19/35\n",
      "2783/2783 [==============================] - 248s 89ms/step - loss: 0.0671 - accuracy: 0.9775 - val_loss: 0.1030 - val_accuracy: 0.9654 - lr: 5.4000e-05\n",
      "Epoch 20/35\n",
      "2783/2783 [==============================] - 250s 90ms/step - loss: 0.0599 - accuracy: 0.9790 - val_loss: 0.1303 - val_accuracy: 0.9580 - lr: 5.4000e-05\n",
      "Epoch 21/35\n",
      "2783/2783 [==============================] - 248s 89ms/step - loss: 0.0619 - accuracy: 0.9799 - val_loss: 0.1117 - val_accuracy: 0.9687 - lr: 5.4000e-05\n",
      "Epoch 22/35\n",
      "2783/2783 [==============================] - 248s 89ms/step - loss: 0.0360 - accuracy: 0.9879 - val_loss: 0.0731 - val_accuracy: 0.9771 - lr: 1.6200e-05\n",
      "Epoch 23/35\n",
      "2783/2783 [==============================] - 251s 90ms/step - loss: 0.0322 - accuracy: 0.9889 - val_loss: 0.0792 - val_accuracy: 0.9773 - lr: 1.6200e-05\n",
      "Epoch 24/35\n",
      "2783/2783 [==============================] - 250s 90ms/step - loss: 0.0286 - accuracy: 0.9904 - val_loss: 0.0833 - val_accuracy: 0.9730 - lr: 1.6200e-05\n",
      "Epoch 25/35\n",
      "2783/2783 [==============================] - 250s 90ms/step - loss: 0.0228 - accuracy: 0.9920 - val_loss: 0.0624 - val_accuracy: 0.9804 - lr: 4.8600e-06\n",
      "Epoch 26/35\n",
      "2783/2783 [==============================] - 251s 90ms/step - loss: 0.0244 - accuracy: 0.9918 - val_loss: 0.0685 - val_accuracy: 0.9771 - lr: 4.8600e-06\n",
      "Epoch 27/35\n",
      "2783/2783 [==============================] - 248s 89ms/step - loss: 0.0204 - accuracy: 0.9935 - val_loss: 0.0793 - val_accuracy: 0.9777 - lr: 4.8600e-06\n",
      "Epoch 28/35\n",
      "2783/2783 [==============================] - 247s 89ms/step - loss: 0.0224 - accuracy: 0.9923 - val_loss: 0.0704 - val_accuracy: 0.9775 - lr: 1.4580e-06\n",
      "Epoch 29/35\n",
      "2783/2783 [==============================] - 249s 89ms/step - loss: 0.0193 - accuracy: 0.9932 - val_loss: 0.0640 - val_accuracy: 0.9788 - lr: 1.4580e-06\n",
      "Epoch 30/35\n",
      "2783/2783 [==============================] - 249s 89ms/step - loss: 0.0178 - accuracy: 0.9942 - val_loss: 0.0770 - val_accuracy: 0.9752 - lr: 4.3740e-07\n",
      "Epoch 31/35\n",
      "2783/2783 [==============================] - 249s 89ms/step - loss: 0.0186 - accuracy: 0.9940 - val_loss: 0.0737 - val_accuracy: 0.9779 - lr: 4.3740e-07\n",
      "Epoch 32/35\n",
      "2783/2783 [==============================] - 250s 90ms/step - loss: 0.0199 - accuracy: 0.9933 - val_loss: 0.0791 - val_accuracy: 0.9788 - lr: 1.3122e-07\n",
      "Epoch 33/35\n",
      "2783/2783 [==============================] - 249s 90ms/step - loss: 0.0200 - accuracy: 0.9927 - val_loss: 0.0626 - val_accuracy: 0.9807 - lr: 1.3122e-07\n",
      "Epoch 34/35\n",
      "2783/2783 [==============================] - 248s 89ms/step - loss: 0.0182 - accuracy: 0.9934 - val_loss: 0.0582 - val_accuracy: 0.9798 - lr: 3.9366e-08\n",
      "Epoch 35/35\n",
      "2783/2783 [==============================] - 249s 89ms/step - loss: 0.0179 - accuracy: 0.9940 - val_loss: 0.0660 - val_accuracy: 0.9797 - lr: 3.9366e-08\n"
     ]
    }
   ],
   "source": [
    "# Train the model.\n",
    "history = model.fit(\n",
    "    train_generator,\n",
    "    epochs=35,  # You can adjust the number of epochs.\n",
    "    validation_data=valid_generator,\n",
    "    callbacks=[EarlyStopping(patience=20),ReduceLROnPlateau(monitor='val_loss', factor=0.3,patience=2, min_lr=0.000000001)]\n",
    ")"
   ]
  },
  {
   "cell_type": "code",
   "execution_count": 8,
   "metadata": {},
   "outputs": [
    {
     "name": "stdout",
     "output_type": "stream",
     "text": [
      "WARNING:tensorflow:HDF5 format does not save weights of `optimizer_experimental.Optimizer`, your optimizer will be recompiled at loading time.\n"
     ]
    }
   ],
   "source": [
    "model.save(\"./model files/PlantDiseaseDetection.h5\")"
   ]
  },
  {
   "cell_type": "code",
   "execution_count": null,
   "metadata": {},
   "outputs": [],
   "source": []
  }
 ],
 "metadata": {
  "kernelspec": {
   "display_name": "tensorflow_gpu",
   "language": "python",
   "name": "python3"
  },
  "language_info": {
   "codemirror_mode": {
    "name": "ipython",
    "version": 3
   },
   "file_extension": ".py",
   "mimetype": "text/x-python",
   "name": "python",
   "nbconvert_exporter": "python",
   "pygments_lexer": "ipython3",
   "version": "3.10.11"
  },
  "orig_nbformat": 4
 },
 "nbformat": 4,
 "nbformat_minor": 2
}
